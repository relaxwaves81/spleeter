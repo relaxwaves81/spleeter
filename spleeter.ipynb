{
  "cells": [
    {
      "cell_type": "markdown",
      "source": [
        "#Install Python 3.10"
      ],
      "metadata": {
        "id": "_f9t9gH15kH_"
      }
    },
    {
      "cell_type": "code",
      "source": [
        "!wget https://repo.anaconda.com/miniconda/Miniconda3-latest-Linux-x86_64.sh\n",
        "!bash Miniconda3-latest-Linux-x86_64.sh -b -f -p /usr/local/miniconda"
      ],
      "metadata": {
        "id": "9J6x5wRw2B9m",
        "outputId": "100a1b60-e420-4f87-a9d4-0f154e1070de",
        "colab": {
          "base_uri": "https://localhost:8080/"
        }
      },
      "execution_count": 2,
      "outputs": [
        {
          "output_type": "stream",
          "name": "stdout",
          "text": [
            "--2025-02-04 07:33:17--  https://repo.anaconda.com/miniconda/Miniconda3-latest-Linux-x86_64.sh\n",
            "Resolving repo.anaconda.com (repo.anaconda.com)... 104.16.191.158, 104.16.32.241, 2606:4700::6810:20f1, ...\n",
            "Connecting to repo.anaconda.com (repo.anaconda.com)|104.16.191.158|:443... connected.\n",
            "HTTP request sent, awaiting response... 200 OK\n",
            "Length: 147784736 (141M) [application/octet-stream]\n",
            "Saving to: ‘Miniconda3-latest-Linux-x86_64.sh.1’\n",
            "\n",
            "Miniconda3-latest-L 100%[===================>] 140.94M   352MB/s    in 0.4s    \n",
            "\n",
            "2025-02-04 07:33:18 (352 MB/s) - ‘Miniconda3-latest-Linux-x86_64.sh.1’ saved [147784736/147784736]\n",
            "\n",
            "PREFIX=/usr/local/miniconda\n",
            "Unpacking payload ...\n",
            "\n",
            "Installing base environment...\n",
            "\n",
            "Preparing transaction: ...working... done\n",
            "Executing transaction: ...working... done\n",
            "installation finished.\n",
            "WARNING:\n",
            "    You currently have a PYTHONPATH environment variable set. This may cause\n",
            "    unexpected behavior when running the Python interpreter in Miniconda3.\n",
            "    For best results, please verify that your PYTHONPATH only points to\n",
            "    directories of packages that are compatible with the Python interpreter\n",
            "    in Miniconda3: /usr/local/miniconda\n"
          ]
        }
      ]
    },
    {
      "cell_type": "code",
      "source": [
        "import sys\n",
        "sys.path.append('/usr/local/miniconda/bin')\n"
      ],
      "metadata": {
        "id": "gCkjq7uI3YPP"
      },
      "execution_count": 3,
      "outputs": []
    },
    {
      "cell_type": "code",
      "source": [
        "import os\n",
        "os.environ['PATH'] = '/usr/local/miniconda/bin:' + os.environ['PATH']"
      ],
      "metadata": {
        "id": "wdA9JR2_4pgV"
      },
      "execution_count": 5,
      "outputs": []
    },
    {
      "cell_type": "code",
      "source": [
        "!conda --version"
      ],
      "metadata": {
        "id": "u2ToSewK4dbu",
        "outputId": "7f49b093-b8a6-4b8d-a45f-061e73bdfc5d",
        "colab": {
          "base_uri": "https://localhost:8080/"
        }
      },
      "execution_count": 6,
      "outputs": [
        {
          "output_type": "stream",
          "name": "stdout",
          "text": [
            "conda 24.11.1\n"
          ]
        }
      ]
    },
    {
      "cell_type": "code",
      "source": [
        "!conda create -y -n py310 python=3.10"
      ],
      "metadata": {
        "collapsed": true,
        "id": "l4nAyluI3dGG",
        "outputId": "722ce3ad-28ae-4de7-c223-e3116422de13",
        "colab": {
          "base_uri": "https://localhost:8080/"
        }
      },
      "execution_count": 7,
      "outputs": [
        {
          "output_type": "stream",
          "name": "stdout",
          "text": [
            "Channels:\n",
            " - defaults\n",
            "Platform: linux-64\n",
            "Collecting package metadata (repodata.json): - \b\b\\ \b\b| \b\b/ \b\b- \b\b\\ \b\b| \b\b/ \b\b- \b\b\\ \b\b| \b\b/ \b\b- \b\b\\ \b\b| \b\bdone\n",
            "Solving environment: - \b\bdone\n",
            "\n",
            "## Package Plan ##\n",
            "\n",
            "  environment location: /usr/local/miniconda/envs/py310\n",
            "\n",
            "  added / updated specs:\n",
            "    - python=3.10\n",
            "\n",
            "\n",
            "The following packages will be downloaded:\n",
            "\n",
            "    package                    |            build\n",
            "    ---------------------------|-----------------\n",
            "    ca-certificates-2024.12.31 |       h06a4308_0         128 KB\n",
            "    pip-25.0                   |  py310h06a4308_0         2.3 MB\n",
            "    python-3.10.16             |       he870216_1        26.9 MB\n",
            "    setuptools-75.8.0          |  py310h06a4308_0         1.6 MB\n",
            "    tzdata-2025a               |       h04d1e81_0         117 KB\n",
            "    wheel-0.45.1               |  py310h06a4308_0         115 KB\n",
            "    ------------------------------------------------------------\n",
            "                                           Total:        31.2 MB\n",
            "\n",
            "The following NEW packages will be INSTALLED:\n",
            "\n",
            "  _libgcc_mutex      pkgs/main/linux-64::_libgcc_mutex-0.1-main \n",
            "  _openmp_mutex      pkgs/main/linux-64::_openmp_mutex-5.1-1_gnu \n",
            "  bzip2              pkgs/main/linux-64::bzip2-1.0.8-h5eee18b_6 \n",
            "  ca-certificates    pkgs/main/linux-64::ca-certificates-2024.12.31-h06a4308_0 \n",
            "  ld_impl_linux-64   pkgs/main/linux-64::ld_impl_linux-64-2.40-h12ee557_0 \n",
            "  libffi             pkgs/main/linux-64::libffi-3.4.4-h6a678d5_1 \n",
            "  libgcc-ng          pkgs/main/linux-64::libgcc-ng-11.2.0-h1234567_1 \n",
            "  libgomp            pkgs/main/linux-64::libgomp-11.2.0-h1234567_1 \n",
            "  libstdcxx-ng       pkgs/main/linux-64::libstdcxx-ng-11.2.0-h1234567_1 \n",
            "  libuuid            pkgs/main/linux-64::libuuid-1.41.5-h5eee18b_0 \n",
            "  ncurses            pkgs/main/linux-64::ncurses-6.4-h6a678d5_0 \n",
            "  openssl            pkgs/main/linux-64::openssl-3.0.15-h5eee18b_0 \n",
            "  pip                pkgs/main/linux-64::pip-25.0-py310h06a4308_0 \n",
            "  python             pkgs/main/linux-64::python-3.10.16-he870216_1 \n",
            "  readline           pkgs/main/linux-64::readline-8.2-h5eee18b_0 \n",
            "  setuptools         pkgs/main/linux-64::setuptools-75.8.0-py310h06a4308_0 \n",
            "  sqlite             pkgs/main/linux-64::sqlite-3.45.3-h5eee18b_0 \n",
            "  tk                 pkgs/main/linux-64::tk-8.6.14-h39e8969_0 \n",
            "  tzdata             pkgs/main/noarch::tzdata-2025a-h04d1e81_0 \n",
            "  wheel              pkgs/main/linux-64::wheel-0.45.1-py310h06a4308_0 \n",
            "  xz                 pkgs/main/linux-64::xz-5.4.6-h5eee18b_1 \n",
            "  zlib               pkgs/main/linux-64::zlib-1.2.13-h5eee18b_1 \n",
            "\n",
            "\n",
            "\n",
            "Downloading and Extracting Packages:\n",
            "python-3.10.16       | 26.9 MB   | :   0% 0/1 [00:00<?, ?it/s]\n",
            "pip-25.0             | 2.3 MB    | :   0% 0/1 [00:00<?, ?it/s]\u001b[A\n",
            "\n",
            "setuptools-75.8.0    | 1.6 MB    | :   0% 0/1 [00:00<?, ?it/s]\u001b[A\u001b[A\n",
            "\n",
            "\n",
            "ca-certificates-2024 | 128 KB    | :   0% 0/1 [00:00<?, ?it/s]\u001b[A\u001b[A\u001b[A\n",
            "\n",
            "\n",
            "\n",
            "tzdata-2025a         | 117 KB    | :   0% 0/1 [00:00<?, ?it/s]\u001b[A\u001b[A\u001b[A\u001b[A\n",
            "\n",
            "\n",
            "\n",
            "\n",
            "wheel-0.45.1         | 115 KB    | :   0% 0/1 [00:00<?, ?it/s]\u001b[A\u001b[A\u001b[A\u001b[A\u001b[A\n",
            "\n",
            "\n",
            "\n",
            "tzdata-2025a         | 117 KB    | : 100% 1.0/1 [00:00<00:00, 15.63it/s]\u001b[A\u001b[A\u001b[A\u001b[A\n",
            "\n",
            "\n",
            "python-3.10.16       | 26.9 MB   | :  10% 0.09543716418880048/1 [00:00<00:00,  1.05s/it]\n",
            "\n",
            "\n",
            "\n",
            "\n",
            "wheel-0.45.1         | 115 KB    | : 100% 1.0/1 [00:00<00:00, 10.97it/s]\u001b[A\u001b[A\u001b[A\u001b[A\u001b[A\n",
            "\n",
            "setuptools-75.8.0    | 1.6 MB    | : 100% 1.0/1 [00:00<00:00,  8.89it/s]\u001b[A\u001b[A\n",
            "\n",
            "setuptools-75.8.0    | 1.6 MB    | : 100% 1.0/1 [00:00<00:00,  8.89it/s]\u001b[A\u001b[A\n",
            "\n",
            "\n",
            "ca-certificates-2024 | 128 KB    | : 100% 1.0/1 [00:00<00:00,  2.67it/s]\u001b[A\u001b[A\u001b[A\n",
            "pip-25.0             | 2.3 MB    | : 100% 1.0/1 [00:00<00:00,  2.64it/s]\u001b[A\n",
            "pip-25.0             | 2.3 MB    | : 100% 1.0/1 [00:00<00:00,  2.64it/s]\u001b[A\n",
            "\n",
            "\n",
            "python-3.10.16       | 26.9 MB   | :  19% 0.19087432837760096/1 [00:00<00:01,  2.32s/it]\n",
            "\n",
            "\n",
            "\n",
            "\n",
            "wheel-0.45.1         | 115 KB    | : 100% 1.0/1 [00:00<00:00,  2.05it/s]\u001b[A\u001b[A\u001b[A\u001b[A\u001b[A\n",
            "\n",
            "\n",
            "\n",
            "\n",
            "python-3.10.16       | 26.9 MB   | :  84% 0.8362390545079652/1 [00:00<00:00,  1.50it/s]\n",
            "\n",
            "\n",
            "\n",
            "tzdata-2025a         | 117 KB    | : 100% 1.0/1 [00:00<00:00,  1.00it/s]\u001b[A\u001b[A\u001b[A\u001b[A\n",
            "\n",
            "\n",
            "\n",
            "python-3.10.16       | 26.9 MB   | : 100% 1.0/1 [00:01<00:00,  1.50it/s]               \n",
            "\n",
            "setuptools-75.8.0    | 1.6 MB    | : 100% 1.0/1 [00:01<00:00,  8.89it/s]\u001b[A\u001b[A\n",
            "                                                                        \n",
            "                                                                        \u001b[A\n",
            "\n",
            "                                                                        \u001b[A\u001b[A\n",
            "\n",
            "\n",
            "                                                                        \u001b[A\u001b[A\u001b[A\n",
            "\n",
            "\n",
            "\n",
            "                                                                        \u001b[A\u001b[A\u001b[A\u001b[A\n",
            "\n",
            "\n",
            "\n",
            "\n",
            "                                                                        \u001b[A\u001b[A\u001b[A\u001b[A\u001b[A\n",
            "Preparing transaction: - \b\b\\ \b\bdone\n",
            "Verifying transaction: / \b\b- \b\b\\ \b\b| \b\b/ \b\b- \b\b\\ \b\b| \b\b/ \b\b- \b\b\\ \b\b| \b\b/ \b\bdone\n",
            "Executing transaction: \\ \b\b| \b\b/ \b\b- \b\b\\ \b\bdone\n",
            "#\n",
            "# To activate this environment, use\n",
            "#\n",
            "#     $ conda activate py310\n",
            "#\n",
            "# To deactivate an active environment, use\n",
            "#\n",
            "#     $ conda deactivate\n",
            "\n"
          ]
        }
      ]
    },
    {
      "cell_type": "code",
      "source": [
        "!source /usr/local/miniconda/bin/activate py310"
      ],
      "metadata": {
        "id": "cFz64h7h6dR3"
      },
      "execution_count": 8,
      "outputs": []
    },
    {
      "cell_type": "code",
      "source": [
        "!python --version"
      ],
      "metadata": {
        "id": "4oZLxkw26x-I",
        "outputId": "64e50255-55f5-46be-ccc2-efff60091d25",
        "colab": {
          "base_uri": "https://localhost:8080/"
        }
      },
      "execution_count": 9,
      "outputs": [
        {
          "output_type": "stream",
          "name": "stdout",
          "text": [
            "Python 3.12.8\n"
          ]
        }
      ]
    },
    {
      "cell_type": "markdown",
      "metadata": {
        "id": "K6mcSc0mmp3i"
      },
      "source": [
        "# Install spleeter"
      ]
    },
    {
      "cell_type": "code",
      "execution_count": 1,
      "metadata": {
        "colab": {
          "base_uri": "https://localhost:8080/"
        },
        "id": "f8Brdfh6mzEz",
        "outputId": "8ff5a773-ad9f-4255-f3e2-4cbf7c27d9d3"
      },
      "outputs": [
        {
          "output_type": "stream",
          "name": "stdout",
          "text": [
            "Reading package lists... Done\n",
            "Building dependency tree... Done\n",
            "Reading state information... Done\n",
            "ffmpeg is already the newest version (7:4.4.2-0ubuntu0.22.04.1).\n",
            "0 upgraded, 0 newly installed, 0 to remove and 18 not upgraded.\n"
          ]
        }
      ],
      "source": [
        "!apt install ffmpeg"
      ]
    },
    {
      "cell_type": "code",
      "source": [
        "!python --version\n"
      ],
      "metadata": {
        "id": "ua32tykG1u9E",
        "outputId": "61672ced-4b11-41bd-c199-6f562339da07",
        "colab": {
          "base_uri": "https://localhost:8080/"
        }
      },
      "execution_count": 5,
      "outputs": [
        {
          "output_type": "stream",
          "name": "stdout",
          "text": [
            "Python 3.11.11\n"
          ]
        }
      ]
    },
    {
      "cell_type": "code",
      "execution_count": 4,
      "metadata": {
        "colab": {
          "base_uri": "https://localhost:8080/"
        },
        "id": "V_6Ram1lmc1F",
        "outputId": "db8d60ab-8ca9-4cb5-fea8-2886434a89b3"
      },
      "outputs": [
        {
          "output_type": "stream",
          "name": "stdout",
          "text": [
            "Collecting spleeter\n",
            "  Using cached spleeter-2.1.0-py3-none-any.whl.metadata (10 kB)\n",
            "Collecting ffmpeg-python==0.2.0 (from spleeter)\n",
            "  Using cached ffmpeg_python-0.2.0-py3-none-any.whl.metadata (1.7 kB)\n",
            "Collecting httpx<0.17.0,>=0.16.1 (from httpx[http2]<0.17.0,>=0.16.1->spleeter)\n",
            "  Using cached httpx-0.16.1-py3-none-any.whl.metadata (38 kB)\n",
            "Collecting librosa==0.8.0 (from spleeter)\n",
            "  Using cached librosa-0.8.0.tar.gz (183 kB)\n",
            "  Preparing metadata (setup.py) ... \u001b[?25l\u001b[?25hdone\n",
            "Collecting norbert==0.2.1 (from spleeter)\n",
            "  Using cached norbert-0.2.1-py2.py3-none-any.whl.metadata (3.8 kB)\n",
            "Collecting numpy<1.19.0,>=1.16.0 (from spleeter)\n",
            "  Using cached numpy-1.18.5.zip (5.4 MB)\n",
            "  Installing build dependencies ... \u001b[?25l\u001b[?25hdone\n",
            "  Getting requirements to build wheel ... \u001b[?25l\u001b[?25hdone\n",
            "  \u001b[1;31merror\u001b[0m: \u001b[1msubprocess-exited-with-error\u001b[0m\n",
            "  \n",
            "  \u001b[31m×\u001b[0m \u001b[32mPreparing metadata \u001b[0m\u001b[1;32m(\u001b[0m\u001b[32mpyproject.toml\u001b[0m\u001b[1;32m)\u001b[0m did not run successfully.\n",
            "  \u001b[31m│\u001b[0m exit code: \u001b[1;36m1\u001b[0m\n",
            "  \u001b[31m╰─>\u001b[0m See above for output.\n",
            "  \n",
            "  \u001b[1;35mnote\u001b[0m: This error originates from a subprocess, and is likely not a problem with pip.\n",
            "  Preparing metadata (pyproject.toml) ... \u001b[?25l\u001b[?25herror\n",
            "\u001b[1;31merror\u001b[0m: \u001b[1mmetadata-generation-failed\u001b[0m\n",
            "\n",
            "\u001b[31m×\u001b[0m Encountered error while generating package metadata.\n",
            "\u001b[31m╰─>\u001b[0m See above for output.\n",
            "\n",
            "\u001b[1;35mnote\u001b[0m: This is an issue with the package mentioned above, not pip.\n",
            "\u001b[1;36mhint\u001b[0m: See above for details.\n"
          ]
        }
      ],
      "source": [
        "!pip install spleeter"
      ]
    },
    {
      "cell_type": "code",
      "execution_count": null,
      "metadata": {
        "id": "W0LktyMypXqE"
      },
      "outputs": [],
      "source": [
        "from IPython.display import Audio"
      ]
    },
    {
      "cell_type": "markdown",
      "metadata": {
        "id": "afbcUSken16L"
      },
      "source": [
        "# Separate from command line"
      ]
    },
    {
      "cell_type": "code",
      "execution_count": null,
      "metadata": {
        "id": "O1kQaoJSoAD0"
      },
      "outputs": [],
      "source": [
        "!wget https://github.com/deezer/spleeter/raw/master/audio_example.mp3"
      ]
    },
    {
      "cell_type": "code",
      "execution_count": null,
      "metadata": {
        "id": "ibG6uF55p4lH"
      },
      "outputs": [],
      "source": [
        "Audio('audio_example.mp3')"
      ]
    },
    {
      "cell_type": "code",
      "execution_count": null,
      "metadata": {
        "id": "kOAqBcPhn6IU"
      },
      "outputs": [],
      "source": [
        "!spleeter separate -h"
      ]
    },
    {
      "cell_type": "code",
      "execution_count": null,
      "metadata": {
        "id": "dGL-k5xxoKbu"
      },
      "outputs": [],
      "source": [
        "!spleeter separate -o output/ audio_example.mp3"
      ]
    },
    {
      "cell_type": "code",
      "execution_count": null,
      "metadata": {
        "id": "IDuPWcAMoZP_"
      },
      "outputs": [],
      "source": [
        "!ls output/audio_example"
      ]
    },
    {
      "cell_type": "code",
      "execution_count": null,
      "metadata": {
        "id": "e7CHpyiloxrk"
      },
      "outputs": [],
      "source": [
        "Audio('output/audio_example/vocals.wav')"
      ]
    },
    {
      "cell_type": "code",
      "execution_count": null,
      "metadata": {
        "id": "ibXd-WCTpT0w"
      },
      "outputs": [],
      "source": [
        "Audio('output/audio_example/accompaniment.wav')"
      ]
    }
  ],
  "metadata": {
    "colab": {
      "name": "spleeter.ipynb",
      "provenance": [],
      "gpuType": "T4"
    },
    "kernelspec": {
      "display_name": "Python 3",
      "name": "python3"
    },
    "accelerator": "GPU"
  },
  "nbformat": 4,
  "nbformat_minor": 0
}